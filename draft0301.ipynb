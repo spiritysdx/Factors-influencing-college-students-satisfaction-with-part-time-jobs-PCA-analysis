{
 "cells": [
  {
   "cell_type": "code",
   "execution_count": 18,
   "metadata": {},
   "outputs": [],
   "source": [
    "import numpy as np\n",
    "import pandas as pd\n",
    "import re,math\n",
    "from sklearn import preprocessing\n",
    "from scipy.stats import pearsonr\n",
    "import matplotlib.pyplot as plt\n",
    "import pyecharts.options as opts\n",
    "from pyecharts.charts import WordCloud\n",
    "from pyecharts.render import make_snapshot\n",
    "from wordcloud import WordCloud\n",
    "\n",
    "\n",
    "\n",
    "data1 = pd.read_csv(r'2022_02_23_07_33_27.csv',encoding='gbk')\n",
    "data2 = pd.read_excel(r'选择你所在家乡城市 描述统计.xlsx')\n",
    "data3 = pd.read_excel(r'学校以及学院 描述统计.xlsx')\n",
    "data4 = pd.read_excel(r'一流大学.xlsx')\n",
    "# 去除非二元问题\n",
    "temp = data1.iloc[1:,23:].fillna(0)\n",
    "tp1 = []\n",
    "for index, row in temp.iterrows():\n",
    "    temp1 = []\n",
    "    for j in row:\n",
    "        if j == 0:\n",
    "            temp1.append(0)\n",
    "        elif j == \"0\":\n",
    "            temp1.append(0)\n",
    "        elif j == \"1\":\n",
    "            temp1.append(1)\n",
    "        elif j == \"是\":\n",
    "            temp1.append(1)\n",
    "        elif j == \"否\":\n",
    "            temp1.append(0)\n",
    "        else:\n",
    "            # print(j)\n",
    "            temp1.append(999)\n",
    "    tp1.append(temp1)\n",
    "temp2 = pd.DataFrame(tp1, columns=temp.columns)\n",
    "# 填补空缺\n",
    "temp3 = []\n",
    "columns_f = []\n",
    "for columns, line in temp2.iteritems():\n",
    "    status_f = 0\n",
    "    for j in line:\n",
    "        if j == 999:\n",
    "            status_f = 1\n",
    "        else:\n",
    "            pass\n",
    "    if status_f == 0:\n",
    "        temp3.append(line)\n",
    "        columns_f.append(columns)\n",
    "temp4 = pd.DataFrame(temp3,index=columns_f).T\n",
    "# 筛选点\n",
    "nodes = []\n",
    "origin_nodes = []\n",
    "count = 0\n",
    "for column, line in temp4.iteritems():\n",
    "    try:\n",
    "        c = column.split(\"-\")[1].replace(\"您大学期间是否进行过兼职（包括实习）（）？\",\"实习过\").replace(\"?\", \"\").replace(\"（刷单、打字、APP试玩点赞等）\",\"\")\n",
    "    except:\n",
    "        c = column.replace(\"您大学期间是否进行过兼职（包括实习）（）？\",\"实习过\").replace(\"?\", \"\").replace(\"（刷单、打字、APP试玩点赞等）\",\"\")\n",
    "    if c != \"其他\":\n",
    "        ct = (c, line.sum())\n",
    "        #print(line, count)\n",
    "        nodes.append(ct)\n",
    "        origin_nodes.append(line)\n",
    "    count += 1"
   ]
  },
  {
   "cell_type": "code",
   "execution_count": 19,
   "metadata": {},
   "outputs": [],
   "source": [
    "# temp5 = nodes[31:37]\n",
    "# temp5.extend(nodes[-30:-24])\n",
    "temp5 = nodes\n",
    "tttt = [(\"自认倒霉\", 149), (\"寻求家长帮助\", 33), (\"向相关部门投诉\", 88), (\"法律维权\", 12), (\"其他手段维权\", 16)]\n",
    "temp5.extend(tttt)"
   ]
  },
  {
   "cell_type": "code",
   "execution_count": 26,
   "metadata": {},
   "outputs": [],
   "source": [
    "tp = []\n",
    "for i in temp5:\n",
    "    if i != temp5[36]:\n",
    "        tp.append(i)"
   ]
  },
  {
   "cell_type": "code",
   "execution_count": 42,
   "metadata": {},
   "outputs": [],
   "source": [
    "tpp = tp[31:36]+tp[57:63]+tp[-5:]"
   ]
  },
  {
   "cell_type": "code",
   "execution_count": 43,
   "metadata": {
    "scrolled": false
   },
   "outputs": [],
   "source": [
    "wordcloud = WordCloud(\n",
    "        font_path=\"./SimHei.ttf\",\n",
    "        background_color='white',                   # 背景颜色\n",
    "        width=2000,\n",
    "        height=1200,\n",
    "        max_words=200,                        # 显示词数\n",
    "        max_font_size = 400).generate_from_frequencies(dict(tpp))\n",
    "image_produce = wordcloud.to_image()\n",
    "image_produce.show()"
   ]
  },
  {
   "cell_type": "code",
   "execution_count": 22,
   "metadata": {},
   "outputs": [
    {
     "data": {
      "text/html": [
       "<div>\n",
       "<style scoped>\n",
       "    .dataframe tbody tr th:only-of-type {\n",
       "        vertical-align: middle;\n",
       "    }\n",
       "\n",
       "    .dataframe tbody tr th {\n",
       "        vertical-align: top;\n",
       "    }\n",
       "\n",
       "    .dataframe thead th {\n",
       "        text-align: right;\n",
       "    }\n",
       "</style>\n",
       "<table border=\"1\" class=\"dataframe\">\n",
       "  <thead>\n",
       "    <tr style=\"text-align: right;\">\n",
       "      <th></th>\n",
       "      <th>Unnamed: 0</th>\n",
       "      <th>0</th>\n",
       "    </tr>\n",
       "  </thead>\n",
       "  <tbody>\n",
       "    <tr>\n",
       "      <th>0</th>\n",
       "      <td>NaN</td>\n",
       "      <td>北京大学</td>\n",
       "    </tr>\n",
       "    <tr>\n",
       "      <th>1</th>\n",
       "      <td>NaN</td>\n",
       "      <td>中国人民大学</td>\n",
       "    </tr>\n",
       "    <tr>\n",
       "      <th>2</th>\n",
       "      <td>NaN</td>\n",
       "      <td>清华大学</td>\n",
       "    </tr>\n",
       "    <tr>\n",
       "      <th>3</th>\n",
       "      <td>NaN</td>\n",
       "      <td>北京交通大学</td>\n",
       "    </tr>\n",
       "    <tr>\n",
       "      <th>4</th>\n",
       "      <td>NaN</td>\n",
       "      <td>北京工业大学</td>\n",
       "    </tr>\n",
       "    <tr>\n",
       "      <th>...</th>\n",
       "      <td>...</td>\n",
       "      <td>...</td>\n",
       "    </tr>\n",
       "    <tr>\n",
       "      <th>142</th>\n",
       "      <td>NaN</td>\n",
       "      <td>上海科技大学</td>\n",
       "    </tr>\n",
       "    <tr>\n",
       "      <th>143</th>\n",
       "      <td>NaN</td>\n",
       "      <td>中国科学院大学</td>\n",
       "    </tr>\n",
       "    <tr>\n",
       "      <th>144</th>\n",
       "      <td>NaN</td>\n",
       "      <td>国防科技大学</td>\n",
       "    </tr>\n",
       "    <tr>\n",
       "      <th>145</th>\n",
       "      <td>NaN</td>\n",
       "      <td>海军军医大学</td>\n",
       "    </tr>\n",
       "    <tr>\n",
       "      <th>146</th>\n",
       "      <td>NaN</td>\n",
       "      <td>空军军医大学</td>\n",
       "    </tr>\n",
       "  </tbody>\n",
       "</table>\n",
       "<p>147 rows × 2 columns</p>\n",
       "</div>"
      ],
      "text/plain": [
       "     Unnamed: 0        0\n",
       "0           NaN     北京大学\n",
       "1           NaN   中国人民大学\n",
       "2           NaN     清华大学\n",
       "3           NaN   北京交通大学\n",
       "4           NaN   北京工业大学\n",
       "..          ...      ...\n",
       "142         NaN   上海科技大学\n",
       "143         NaN  中国科学院大学\n",
       "144         NaN   国防科技大学\n",
       "145         NaN   海军军医大学\n",
       "146         NaN   空军军医大学\n",
       "\n",
       "[147 rows x 2 columns]"
      ]
     },
     "execution_count": 22,
     "metadata": {},
     "output_type": "execute_result"
    }
   ],
   "source": [
    "data4"
   ]
  },
  {
   "cell_type": "code",
   "execution_count": 23,
   "metadata": {},
   "outputs": [
    {
     "data": {
      "text/plain": [
       "array(['北京大学', '中国人民大学', '清华大学', '北京交通大学', '北京工业大学', '北京航空航天大学', '北京理工大学',\n",
       "       '北京科技大学', '北京化工大学', '北京邮电大学', '中国农业大学', '北京林业大学', '北京协和医学院',\n",
       "       '北京中医药大学', '北京师范大学', '首都师范大学', '北京外国语大学', '中国传媒大学', '中央财经大学',\n",
       "       '对外经济贸易大学', '外交学院', '中国人民公安大学', '北京体育大学', '中央音乐学院', '中国音乐学院',\n",
       "       '中央美术学院', '中央戏剧学院', '中央民族大学', '中国政法大学', '南开大学', '天津大学', '天津工业大学',\n",
       "       '天津医科大学', '天津中医药大学', '华北电力大学', '河北工业大学', '山西大学', '太原理工大学', '内蒙古大学',\n",
       "       '辽宁大学', '大连理工大学', '东北大学', '大连海事大学', '吉林大学', '延边大学', '东北师范大学',\n",
       "       '哈尔滨工业大学', '哈尔滨工程大学', '东北农业大学', '东北林业大学', '复旦大学', '同济大学', '上海交通大学',\n",
       "       '华东理工大学', '东华大学', '上海海洋大学', '上海中医药大学', '华东师范大学', '上海外国语大学',\n",
       "       '上海财经大学', '上海体育学院', '上海音乐学院', '上海大学', '南京大学', '苏州大学', '东南大学',\n",
       "       '南京航空航天大学', '南京理工大学', '中国矿业大学', '南京邮电大学', '河海大学', '江南大学', '南京林业大学',\n",
       "       '南京信息工程大学', '南京农业大学', '南京医科大学', '南京中医药大学', '中国药科大学', '南京师范大学',\n",
       "       '浙江大学', '中国美术学院', '安徽大学', '中国科学技术大学', '合肥工业大学', '厦门大学', '福州大学',\n",
       "       '南昌大学', '山东大学', '中国海洋大学', '中国石油大学（华东）', '郑州大学', '河南大学', '武汉大学',\n",
       "       '华中科技大学', '中国地质大学（武汉）', '武汉理工大学', '华中农业大学', '华中师范大学', '中南财经政法大学',\n",
       "       '湘潭大学', '湖南大学', '中南大学', '湖南师范大学', '中山大学', '暨南大学', '华南理工大学',\n",
       "       '华南农业大学', '广州医科大学', '广州中医药大学', '华南师范大学', '海南大学', '广西大学', '四川大学',\n",
       "       '重庆大学', '西南交通大学', '电子科技大学', '西南石油大学', '成都理工大学', '四川农业大学',\n",
       "       '成都中医药大学', '西南大学', '西南财经大学', '贵州大学', '云南大学', '西藏大学', '西北大学',\n",
       "       '西安交通大学', '西北工业大学', '西安电子科技大学', '长安大学', '西北农林科技大学', '陕西师范大学',\n",
       "       '兰州大学', '青海大学', '宁夏大学', '新疆大学', '石河子大学', '中国矿业大学（北京）',\n",
       "       '中国石油大学（北京）', '中国地质大学（北京）', '宁波大学', '南方科技大学', '上海科技大学', '中国科学院大学',\n",
       "       '国防科技大学', '海军军医大学', '空军军医大学'], dtype=object)"
      ]
     },
     "execution_count": 23,
     "metadata": {},
     "output_type": "execute_result"
    }
   ],
   "source": [
    "np.array(data4[0])"
   ]
  },
  {
   "cell_type": "code",
   "execution_count": 24,
   "metadata": {},
   "outputs": [],
   "source": [
    "ytemp = []\n",
    "errotemp = []\n",
    "for index, row in data1.iterrows():\n",
    "    tp = row[\"学校以及学院\"].split(\"大学\")[0] + \"大学\"\n",
    "    try:\n",
    "        tp1 = row[\"学校以及学院\"].split(\"大学\")[1]\n",
    "    except:\n",
    "        tp1 = \"\"\n",
    "    if tp in np.array(data4[0]):\n",
    "        ytemp.append(np.array(row))\n",
    "    else:\n",
    "        errotemp.append(np.array(row))\n",
    "for i,j in zip([errotemp, ytemp],[\"二流大学\", \"一流大学\"]):\n",
    "    pd.DataFrame(i, columns=data1.columns).to_csv(f\"./一流大学/{j}.csv\",encoding=\"utf_8_sig\")"
   ]
  },
  {
   "cell_type": "code",
   "execution_count": null,
   "metadata": {},
   "outputs": [],
   "source": []
  },
  {
   "cell_type": "code",
   "execution_count": null,
   "metadata": {},
   "outputs": [],
   "source": []
  }
 ],
 "metadata": {
  "kernelspec": {
   "display_name": "Python 3",
   "language": "python",
   "name": "python3"
  },
  "language_info": {
   "codemirror_mode": {
    "name": "ipython",
    "version": 3
   },
   "file_extension": ".py",
   "mimetype": "text/x-python",
   "name": "python",
   "nbconvert_exporter": "python",
   "pygments_lexer": "ipython3",
   "version": "3.6.10"
  }
 },
 "nbformat": 4,
 "nbformat_minor": 4
}
